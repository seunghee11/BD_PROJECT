{
  "nbformat": 4,
  "nbformat_minor": 0,
  "metadata": {
    "colab": {
      "name": "Project.ipynb",
      "provenance": [],
      "collapsed_sections": []
    },
    "kernelspec": {
      "name": "python3",
      "display_name": "Python 3"
    }
  },
  "cells": [
    {
      "cell_type": "code",
      "metadata": {
        "id": "FgV8MxcgbAIo",
        "colab_type": "code",
        "colab": {
          "base_uri": "https://localhost:8080/",
          "height": 253
        },
        "outputId": "9f0480e7-b2e0-4337-95c5-1f015ccece8e"
      },
      "source": [
        "!pip install bs4 requests pandas "
      ],
      "execution_count": 3,
      "outputs": [
        {
          "output_type": "stream",
          "text": [
            "Requirement already satisfied: bs4 in /usr/local/lib/python3.6/dist-packages (0.0.1)\n",
            "Requirement already satisfied: requests in /usr/local/lib/python3.6/dist-packages (2.23.0)\n",
            "Requirement already satisfied: pandas in /usr/local/lib/python3.6/dist-packages (1.0.5)\n",
            "Requirement already satisfied: beautifulsoup4 in /usr/local/lib/python3.6/dist-packages (from bs4) (4.6.3)\n",
            "Requirement already satisfied: chardet<4,>=3.0.2 in /usr/local/lib/python3.6/dist-packages (from requests) (3.0.4)\n",
            "Requirement already satisfied: urllib3!=1.25.0,!=1.25.1,<1.26,>=1.21.1 in /usr/local/lib/python3.6/dist-packages (from requests) (1.24.3)\n",
            "Requirement already satisfied: idna<3,>=2.5 in /usr/local/lib/python3.6/dist-packages (from requests) (2.9)\n",
            "Requirement already satisfied: certifi>=2017.4.17 in /usr/local/lib/python3.6/dist-packages (from requests) (2020.6.20)\n",
            "Requirement already satisfied: numpy>=1.13.3 in /usr/local/lib/python3.6/dist-packages (from pandas) (1.18.5)\n",
            "Requirement already satisfied: pytz>=2017.2 in /usr/local/lib/python3.6/dist-packages (from pandas) (2018.9)\n",
            "Requirement already satisfied: python-dateutil>=2.6.1 in /usr/local/lib/python3.6/dist-packages (from pandas) (2.8.1)\n",
            "Requirement already satisfied: six>=1.5 in /usr/local/lib/python3.6/dist-packages (from python-dateutil>=2.6.1->pandas) (1.12.0)\n"
          ],
          "name": "stdout"
        }
      ]
    },
    {
      "cell_type": "code",
      "metadata": {
        "id": "or5Xm4cS7MbE",
        "colab_type": "code",
        "colab": {}
      },
      "source": [
        ""
      ],
      "execution_count": null,
      "outputs": []
    },
    {
      "cell_type": "code",
      "metadata": {
        "id": "KI608NFjbwOX",
        "colab_type": "code",
        "colab": {}
      },
      "source": [
        "import requests\n",
        "from bs4 import BeautifulSoup\n",
        "\n",
        "url = \"https://www.tripadvisor.co.kr/Attractions-g297885-Activities-Jeju_Jeju_Island.html\"\n",
        "headers = {'User-Agent': 'Mozilla/5.0'}\n",
        "\n",
        "html = requests.get(url,headers=headers) ##requests 를 이용해서 url의 html 파일을 가져옴\n",
        "soup = BeautifulSoup(html.text, \"html.parser\") ##가져온 html 파일을 html parser를 통해서 정리"
      ],
      "execution_count": 4,
      "outputs": []
    },
    {
      "cell_type": "code",
      "metadata": {
        "id": "pvAMkiUVb5xr",
        "colab_type": "code",
        "colab": {}
      },
      "source": [
        "print(soup)"
      ],
      "execution_count": null,
      "outputs": []
    },
    {
      "cell_type": "code",
      "metadata": {
        "id": "YHDYoRqvcH8B",
        "colab_type": "code",
        "colab": {}
      },
      "source": [
        "review_list = list()\n",
        "html_review_list = soup.findAll(\"a\", attrs={\"class\":\"_255i5rcQ\"})\n",
        "\n",
        "for line in html_review_list:\n",
        "  text = line.get_text()\n",
        "  review_list.append(text)"
      ],
      "execution_count": 6,
      "outputs": []
    },
    {
      "cell_type": "code",
      "metadata": {
        "id": "yeIJeKM2cTgv",
        "colab_type": "code",
        "colab": {}
      },
      "source": [
        "review_list"
      ],
      "execution_count": null,
      "outputs": []
    },
    {
      "cell_type": "code",
      "metadata": {
        "id": "_M2LqetjcfH9",
        "colab_type": "code",
        "colab": {}
      },
      "source": [
        "preprocess_review = list()\n",
        "for review_text in review_list:\n",
        "  review_text = review_text.replace(\"\\n\", \"\")\n",
        "  review_text = review_text.strip()\n",
        "  preprocess_review.append(review_text)"
      ],
      "execution_count": 8,
      "outputs": []
    },
    {
      "cell_type": "code",
      "metadata": {
        "id": "Q-qrAD9ech5N",
        "colab_type": "code",
        "colab": {}
      },
      "source": [
        "preprocess_review"
      ],
      "execution_count": null,
      "outputs": []
    },
    {
      "cell_type": "code",
      "metadata": {
        "id": "_P8yd-7kcop2",
        "colab_type": "code",
        "colab": {
          "base_uri": "https://localhost:8080/",
          "height": 35
        },
        "outputId": "b84987c6-1014-453e-a9b9-f547eb3f2edb"
      },
      "source": [
        "html_label_list = soup.findAll(\"span\", attrs={\"_1jcHBWVU\"})\n",
        "\n",
        "print(html_label_list[0].attrs[\"class\"])"
      ],
      "execution_count": 10,
      "outputs": [
        {
          "output_type": "stream",
          "text": [
            "['_1jcHBWVU', '_1-HtLqs3', 'uq1qMUbD']\n"
          ],
          "name": "stdout"
        }
      ]
    },
    {
      "cell_type": "code",
      "metadata": {
        "id": "98GQGWFwheVS",
        "colab_type": "code",
        "colab": {}
      },
      "source": [
        "label_list = list()\n",
        "\n",
        "for line in html_label_list:\n",
        "  label = line.attrs[\"class\"][1]\n",
        "  label_list.append(label)"
      ],
      "execution_count": 11,
      "outputs": []
    },
    {
      "cell_type": "code",
      "metadata": {
        "id": "DFS3a11Qhg69",
        "colab_type": "code",
        "colab": {
          "base_uri": "https://localhost:8080/",
          "height": 1000
        },
        "outputId": "f200cf98-d5c1-42c4-8cfc-a88d319b1123"
      },
      "source": [
        "label_list"
      ],
      "execution_count": 12,
      "outputs": [
        {
          "output_type": "execute_result",
          "data": {
            "text/plain": [
              "['_1-HtLqs3',\n",
              " '_2n4wJlqY',\n",
              " '_2n4wJlqY',\n",
              " '_2vB__cbb',\n",
              " '_1-HtLqs3',\n",
              " '_1-HtLqs3',\n",
              " '_2vB__cbb',\n",
              " '_1RZqMyqR',\n",
              " '_1RZqMyqR',\n",
              " '_1RZqMyqR',\n",
              " '_1RZqMyqR',\n",
              " '_1-HtLqs3',\n",
              " '_1-HtLqs3',\n",
              " '_1RZqMyqR',\n",
              " '_1RZqMyqR',\n",
              " '_1-HtLqs3',\n",
              " '_1-HtLqs3',\n",
              " '_1-HtLqs3',\n",
              " '_1-HtLqs3',\n",
              " '_1-HtLqs3',\n",
              " '_1RZqMyqR',\n",
              " '_2n4wJlqY',\n",
              " '_1-HtLqs3',\n",
              " '_1-HtLqs3',\n",
              " '_1-HtLqs3',\n",
              " '_1RZqMyqR',\n",
              " '_1RZqMyqR',\n",
              " '_2n4wJlqY',\n",
              " '_2n4wJlqY',\n",
              " '_2n4wJlqY',\n",
              " '_1RZqMyqR',\n",
              " '_1-HtLqs3',\n",
              " '_1-HtLqs3',\n",
              " '_1-HtLqs3',\n",
              " '_1-HtLqs3',\n",
              " '_1-HtLqs3',\n",
              " '_1-HtLqs3',\n",
              " '_1-HtLqs3',\n",
              " '_1RZqMyqR',\n",
              " '_1RZqMyqR',\n",
              " '_1RZqMyqR',\n",
              " '_2vB__cbb',\n",
              " '_1-HtLqs3',\n",
              " '_1RZqMyqR',\n",
              " '_1RZqMyqR',\n",
              " '_1RZqMyqR',\n",
              " '_1RZqMyqR',\n",
              " '_1RZqMyqR',\n",
              " '_1RZqMyqR',\n",
              " '_1-HtLqs3',\n",
              " '_1RZqMyqR',\n",
              " '_1RZqMyqR',\n",
              " '_1RZqMyqR',\n",
              " '_1RZqMyqR',\n",
              " '_1-HtLqs3',\n",
              " '_1RZqMyqR',\n",
              " '_1-HtLqs3',\n",
              " '_1-HtLqs3',\n",
              " '_1RZqMyqR',\n",
              " '_1RZqMyqR',\n",
              " '_1-HtLqs3',\n",
              " '_1-HtLqs3',\n",
              " '_1-HtLqs3',\n",
              " '_1-HtLqs3',\n",
              " '_1-HtLqs3',\n",
              " '_1RZqMyqR',\n",
              " '_2n4wJlqY',\n",
              " '_1RZqMyqR',\n",
              " '_2n4wJlqY',\n",
              " '_2n4wJlqY',\n",
              " '_1-HtLqs3',\n",
              " '_1-HtLqs3',\n",
              " '_1-HtLqs3',\n",
              " '_1RZqMyqR',\n",
              " '_1RZqMyqR',\n",
              " '_1-HtLqs3',\n",
              " '_1RZqMyqR',\n",
              " '_1RZqMyqR',\n",
              " '_1-HtLqs3',\n",
              " '_1RZqMyqR',\n",
              " '_1RZqMyqR']"
            ]
          },
          "metadata": {
            "tags": []
          },
          "execution_count": 12
        }
      ]
    },
    {
      "cell_type": "code",
      "metadata": {
        "id": "-KXMdQkChlCh",
        "colab_type": "code",
        "colab": {}
      },
      "source": [
        "result_list = list()\n",
        "for label, review in zip(label_list, preprocess_review):\n",
        "  row_data = [label, review]\n",
        "  result_list.append(row_data)"
      ],
      "execution_count": 13,
      "outputs": []
    },
    {
      "cell_type": "code",
      "metadata": {
        "id": "M9yP0wzxhm36",
        "colab_type": "code",
        "colab": {
          "base_uri": "https://localhost:8080/",
          "height": 55
        },
        "outputId": "7e309f94-656b-4a3d-a76a-59c3c1257cbf"
      },
      "source": [
        "print(result_list)"
      ],
      "execution_count": 14,
      "outputs": [
        {
          "output_type": "stream",
          "text": [
            "[['_1-HtLqs3', '제주김녕미로공원'], ['_2n4wJlqY', '용두암'], ['_2n4wJlqY', '신비의도로'], ['_2vB__cbb', '왕따나무'], ['_1-HtLqs3', '아랑조을거리'], ['_1-HtLqs3', '항파두리 항몽'], ['_2vB__cbb', '신창 풍차해안도로'], ['_1RZqMyqR', '수월봉'], ['_1RZqMyqR', '생각하는 정원'], ['_1RZqMyqR', '비자림'], ['_1RZqMyqR', '제주 절물 자연 휴양림'], ['_1-HtLqs3', '한림공원'], ['_1-HtLqs3', '제주 돌문화 공원'], ['_1RZqMyqR', '제주 4.3 평화공원'], ['_1RZqMyqR', '우도등대공원'], ['_1-HtLqs3', '한라 수목원'], ['_1-HtLqs3', '제주 민속자연사 박물관'], ['_1-HtLqs3', '제주평화박물관'], ['_1-HtLqs3', '그리스신화 박물관'], ['_1-HtLqs3', '제주추사관'], ['_1RZqMyqR', 'Kim Man Duk Memorial Museum'], ['_2n4wJlqY', '제주항일기념관'], ['_1-HtLqs3', '에코랜드 테마파크'], ['_1-HtLqs3', '제주 유리의 성'], ['_1-HtLqs3', '테지움 제주'], ['_1RZqMyqR', '더 마 파크'], ['_1RZqMyqR', '9.81 파크'], ['_2n4wJlqY', '제주 공룡 랜드'], ['_2n4wJlqY', '제주미니미니랜드'], ['_2n4wJlqY', '테마파크 프시케월드'], ['_1RZqMyqR', '생각하는 정원'], ['_1-HtLqs3', '해녀 박물관'], ['_1-HtLqs3', '메이즈랜드'], ['_1-HtLqs3', '테지움 제주'], ['_1-HtLqs3', '헬로 키티 아일랜드'], ['_1-HtLqs3', '선녀와 나무꾼 박물관'], ['_1-HtLqs3', '국립 제주 박물관'], ['_1-HtLqs3', '방림원 (세계 야생화 박물관)'], ['_1RZqMyqR', '한라산 성판악'], ['_1RZqMyqR', '거문오름'], ['_1RZqMyqR', '사려니숲길'], ['_2vB__cbb', '정물오름'], ['_1-HtLqs3', '어승생악'], ['_1RZqMyqR', '함덕 서우봉 해변'], ['_1RZqMyqR', '협재 해수욕장'], ['_1RZqMyqR', '월정리해변'], ['_1RZqMyqR', '금능해수욕장'], ['_1RZqMyqR', '김녕 성세기 해변'], ['_1RZqMyqR', '세화 해수욕장'], ['_1-HtLqs3', '이호테우해변'], ['_1RZqMyqR', '곽지해수욕장'], ['_1RZqMyqR', '1. 우도'], ['_1RZqMyqR', '2. 생각하는 정원'], ['_1RZqMyqR', '3. 함덕 서우봉 해변'], ['_1-HtLqs3', '4. 만장굴'], ['_1RZqMyqR', '5. 협재 해수욕장'], ['_1-HtLqs3', '6. 동문 재래시장'], ['_1-HtLqs3', '7. 한림공원'], ['_1RZqMyqR', '8. 비자림'], ['_1RZqMyqR', '9. 한라산 성판악'], ['_1-HtLqs3', '10. 제주 돌문화 공원'], ['_1-HtLqs3', '11. 해녀 박물관'], ['_1-HtLqs3', '12. 에코랜드 테마파크'], ['_1-HtLqs3', '13. 산굼부리 분화구'], ['_1-HtLqs3', '14. 제주김녕미로공원'], ['_1RZqMyqR', '15. 월정리해변'], ['_2n4wJlqY', '16. 신비의도로'], ['_1RZqMyqR', '17. 제주 절물 자연 휴양림'], ['_2n4wJlqY', '18. 용두암'], ['_2n4wJlqY', '19. 성읍 민속마을'], ['_1-HtLqs3', '20. 헬로 키티 아일랜드'], ['_1-HtLqs3', '21. 흑돼지 거리'], ['_1-HtLqs3', '22. 메이즈랜드'], ['_1RZqMyqR', '23. 제주 4.3 평화공원'], ['_1RZqMyqR', '24. 새별오름'], ['_1-HtLqs3', '25. 제주 유리의 성'], ['_1RZqMyqR', '26. 제주난타'], ['_1RZqMyqR', '27. 세화 해수욕장'], ['_1-HtLqs3', '28. 이호테우해변'], ['_1RZqMyqR', '29. 금능해수욕장'], ['_1RZqMyqR', '30. 사려니숲길']]\n"
          ],
          "name": "stdout"
        }
      ]
    },
    {
      "cell_type": "code",
      "metadata": {
        "id": "QI2l872Khq_4",
        "colab_type": "code",
        "colab": {
          "base_uri": "https://localhost:8080/",
          "height": 419
        },
        "outputId": "76ca2a08-f1cb-4de5-d178-f07f25c9748c"
      },
      "source": [
        "import pandas as pd\n",
        "\n",
        "review_df = pd.DataFrame(result_list, columns =['grade', 'review'])\n",
        "review_df"
      ],
      "execution_count": 15,
      "outputs": [
        {
          "output_type": "execute_result",
          "data": {
            "text/html": [
              "<div>\n",
              "<style scoped>\n",
              "    .dataframe tbody tr th:only-of-type {\n",
              "        vertical-align: middle;\n",
              "    }\n",
              "\n",
              "    .dataframe tbody tr th {\n",
              "        vertical-align: top;\n",
              "    }\n",
              "\n",
              "    .dataframe thead th {\n",
              "        text-align: right;\n",
              "    }\n",
              "</style>\n",
              "<table border=\"1\" class=\"dataframe\">\n",
              "  <thead>\n",
              "    <tr style=\"text-align: right;\">\n",
              "      <th></th>\n",
              "      <th>grade</th>\n",
              "      <th>review</th>\n",
              "    </tr>\n",
              "  </thead>\n",
              "  <tbody>\n",
              "    <tr>\n",
              "      <th>0</th>\n",
              "      <td>_1-HtLqs3</td>\n",
              "      <td>제주김녕미로공원</td>\n",
              "    </tr>\n",
              "    <tr>\n",
              "      <th>1</th>\n",
              "      <td>_2n4wJlqY</td>\n",
              "      <td>용두암</td>\n",
              "    </tr>\n",
              "    <tr>\n",
              "      <th>2</th>\n",
              "      <td>_2n4wJlqY</td>\n",
              "      <td>신비의도로</td>\n",
              "    </tr>\n",
              "    <tr>\n",
              "      <th>3</th>\n",
              "      <td>_2vB__cbb</td>\n",
              "      <td>왕따나무</td>\n",
              "    </tr>\n",
              "    <tr>\n",
              "      <th>4</th>\n",
              "      <td>_1-HtLqs3</td>\n",
              "      <td>아랑조을거리</td>\n",
              "    </tr>\n",
              "    <tr>\n",
              "      <th>...</th>\n",
              "      <td>...</td>\n",
              "      <td>...</td>\n",
              "    </tr>\n",
              "    <tr>\n",
              "      <th>76</th>\n",
              "      <td>_1RZqMyqR</td>\n",
              "      <td>26. 제주난타</td>\n",
              "    </tr>\n",
              "    <tr>\n",
              "      <th>77</th>\n",
              "      <td>_1RZqMyqR</td>\n",
              "      <td>27. 세화 해수욕장</td>\n",
              "    </tr>\n",
              "    <tr>\n",
              "      <th>78</th>\n",
              "      <td>_1-HtLqs3</td>\n",
              "      <td>28. 이호테우해변</td>\n",
              "    </tr>\n",
              "    <tr>\n",
              "      <th>79</th>\n",
              "      <td>_1RZqMyqR</td>\n",
              "      <td>29. 금능해수욕장</td>\n",
              "    </tr>\n",
              "    <tr>\n",
              "      <th>80</th>\n",
              "      <td>_1RZqMyqR</td>\n",
              "      <td>30. 사려니숲길</td>\n",
              "    </tr>\n",
              "  </tbody>\n",
              "</table>\n",
              "<p>81 rows × 2 columns</p>\n",
              "</div>"
            ],
            "text/plain": [
              "        grade       review\n",
              "0   _1-HtLqs3     제주김녕미로공원\n",
              "1   _2n4wJlqY          용두암\n",
              "2   _2n4wJlqY        신비의도로\n",
              "3   _2vB__cbb         왕따나무\n",
              "4   _1-HtLqs3       아랑조을거리\n",
              "..        ...          ...\n",
              "76  _1RZqMyqR     26. 제주난타\n",
              "77  _1RZqMyqR  27. 세화 해수욕장\n",
              "78  _1-HtLqs3   28. 이호테우해변\n",
              "79  _1RZqMyqR   29. 금능해수욕장\n",
              "80  _1RZqMyqR    30. 사려니숲길\n",
              "\n",
              "[81 rows x 2 columns]"
            ]
          },
          "metadata": {
            "tags": []
          },
          "execution_count": 15
        }
      ]
    },
    {
      "cell_type": "code",
      "metadata": {
        "id": "GfR0y9XcRuic",
        "colab_type": "code",
        "colab": {}
      },
      "source": [
        "multi_page_result = list()\n",
        "url = \"https://www.tripadvisor.co.kr/Attractions-g297885-Activities-Jeju_Jeju_Island.html\"\n",
        "\n",
        "\n",
        "html = requests.get(url) ##requests 를 이용해서 url의 html 파일을 가져옴\n",
        "soup = BeautifulSoup(html.text, \"html.parser\") ##가져온 html 파일을 html parser를 통해서 정리\n",
        "\n",
        "review_list = list()\n",
        "html_review_list = soup.findAll(\"a\", attrs={\"class\":\"_255i5rcQ\"})\n",
        "for line in html_review_list:\n",
        "  text = line.get_text()\n",
        "  text = text.replace(\"\\n\", \"\").strip()\n",
        "  review_list.append(text)\n",
        "\n",
        "html_label_list = soup.findAll(\"span\", attrs={\"_1jcHBWVU\"})\n",
        "label_list = list()\n",
        "for line in html_label_list:\n",
        "  label = line.attrs[\"class\"][1]\n",
        "  label_list.append(label)\n",
        "\n",
        "for label, review in zip(label_list, review_list):\n",
        "  row_data = [label, review]\n",
        "  multi_page_result.append(row_data)"
      ],
      "execution_count": 18,
      "outputs": []
    },
    {
      "cell_type": "code",
      "metadata": {
        "id": "J8qnktO3huBN",
        "colab_type": "code",
        "colab": {}
      },
      "source": [
        "\n",
        "for i in range(0,160,30):\n",
        "  url = \"https://www.tripadvisor.co.kr/Attractions-g297885-Activities-oa\"+ str(i)+\"-Jeju_Jeju_Island.html#FILTERED_LIST\"\n",
        "\n",
        "\n",
        "  html = requests.get(url) ##requests 를 이용해서 url의 html 파일을 가져옴\n",
        "  soup = BeautifulSoup(html.text, \"html.parser\") ##가져온 html 파일을 html parser를 통해서 정리\n",
        "\n",
        "  review_list = list()\n",
        "  html_review_list = soup.findAll(\"a\", attrs={\"class\":\"_1QKQOve4\"})\n",
        "  for line in html_review_list:\n",
        "    text = line.get_text()\n",
        "    text = text.replace(\"\\n\", \"\").strip()\n",
        "    review_list.append(text)\n",
        "\n",
        "  html_label_list = soup.findAll(\"span\", attrs={\"_1jcHBWVU\"})\n",
        "  label_list = list()\n",
        "  for line in html_label_list:\n",
        "    label = line.attrs[\"class\"][1]\n",
        "    label_list.append(label)\n",
        "\n",
        "  for label, review in zip(label_list, review_list):\n",
        "    row_data = [label, review]\n",
        "    multi_page_result.append(row_data)"
      ],
      "execution_count": 19,
      "outputs": []
    },
    {
      "cell_type": "code",
      "metadata": {
        "id": "PsOa43Ljj_iP",
        "colab_type": "code",
        "colab": {}
      },
      "source": [
        "import pandas as pd\n",
        "\n",
        "review_df = pd.DataFrame(multi_page_result, columns =['grade', 'review'])"
      ],
      "execution_count": 20,
      "outputs": []
    },
    {
      "cell_type": "code",
      "metadata": {
        "id": "-7QaWsvvkBWQ",
        "colab_type": "code",
        "colab": {
          "base_uri": "https://localhost:8080/",
          "height": 419
        },
        "outputId": "dd3f56a0-1d26-4c0e-a9dd-5711a1715bdd"
      },
      "source": [
        "review_df"
      ],
      "execution_count": 21,
      "outputs": [
        {
          "output_type": "execute_result",
          "data": {
            "text/html": [
              "<div>\n",
              "<style scoped>\n",
              "    .dataframe tbody tr th:only-of-type {\n",
              "        vertical-align: middle;\n",
              "    }\n",
              "\n",
              "    .dataframe tbody tr th {\n",
              "        vertical-align: top;\n",
              "    }\n",
              "\n",
              "    .dataframe thead th {\n",
              "        text-align: right;\n",
              "    }\n",
              "</style>\n",
              "<table border=\"1\" class=\"dataframe\">\n",
              "  <thead>\n",
              "    <tr style=\"text-align: right;\">\n",
              "      <th></th>\n",
              "      <th>grade</th>\n",
              "      <th>review</th>\n",
              "    </tr>\n",
              "  </thead>\n",
              "  <tbody>\n",
              "    <tr>\n",
              "      <th>0</th>\n",
              "      <td>_1-HtLqs3</td>\n",
              "      <td>에코랜드 테마파크</td>\n",
              "    </tr>\n",
              "    <tr>\n",
              "      <th>1</th>\n",
              "      <td>_1-HtLqs3</td>\n",
              "      <td>제주 유리의 성</td>\n",
              "    </tr>\n",
              "    <tr>\n",
              "      <th>2</th>\n",
              "      <td>_1-HtLqs3</td>\n",
              "      <td>테지움 제주</td>\n",
              "    </tr>\n",
              "    <tr>\n",
              "      <th>3</th>\n",
              "      <td>_1RZqMyqR</td>\n",
              "      <td>더 마 파크</td>\n",
              "    </tr>\n",
              "    <tr>\n",
              "      <th>4</th>\n",
              "      <td>_1RZqMyqR</td>\n",
              "      <td>9.81 파크</td>\n",
              "    </tr>\n",
              "    <tr>\n",
              "      <th>...</th>\n",
              "      <td>...</td>\n",
              "      <td>...</td>\n",
              "    </tr>\n",
              "    <tr>\n",
              "      <th>184</th>\n",
              "      <td>_2vB__cbb</td>\n",
              "      <td>사라봉</td>\n",
              "    </tr>\n",
              "    <tr>\n",
              "      <th>185</th>\n",
              "      <td>_2Icfy9b1</td>\n",
              "      <td>제주 오리엔탈호텔 카지노</td>\n",
              "    </tr>\n",
              "    <tr>\n",
              "      <th>186</th>\n",
              "      <td>_1-HtLqs3</td>\n",
              "      <td>모충사</td>\n",
              "    </tr>\n",
              "    <tr>\n",
              "      <th>187</th>\n",
              "      <td>_3RqovlMp</td>\n",
              "      <td>탑동광장</td>\n",
              "    </tr>\n",
              "    <tr>\n",
              "      <th>188</th>\n",
              "      <td>_2vB__cbb</td>\n",
              "      <td>견월악 목마장</td>\n",
              "    </tr>\n",
              "  </tbody>\n",
              "</table>\n",
              "<p>189 rows × 2 columns</p>\n",
              "</div>"
            ],
            "text/plain": [
              "         grade         review\n",
              "0    _1-HtLqs3      에코랜드 테마파크\n",
              "1    _1-HtLqs3       제주 유리의 성\n",
              "2    _1-HtLqs3         테지움 제주\n",
              "3    _1RZqMyqR         더 마 파크\n",
              "4    _1RZqMyqR        9.81 파크\n",
              "..         ...            ...\n",
              "184  _2vB__cbb            사라봉\n",
              "185  _2Icfy9b1  제주 오리엔탈호텔 카지노\n",
              "186  _1-HtLqs3            모충사\n",
              "187  _3RqovlMp           탑동광장\n",
              "188  _2vB__cbb        견월악 목마장\n",
              "\n",
              "[189 rows x 2 columns]"
            ]
          },
          "metadata": {
            "tags": []
          },
          "execution_count": 21
        }
      ]
    },
    {
      "cell_type": "code",
      "metadata": {
        "id": "wAwIbPh_qWAu",
        "colab_type": "code",
        "colab": {}
      },
      "source": [
        "review_df.to_csv('jeju.csv')"
      ],
      "execution_count": 22,
      "outputs": []
    },
    {
      "cell_type": "code",
      "metadata": {
        "id": "Xk5kptefqlXK",
        "colab_type": "code",
        "colab": {
          "base_uri": "https://localhost:8080/",
          "height": 35
        },
        "outputId": "446c1228-bbf6-460f-d2f3-9c00efb76db4"
      },
      "source": [
        "!ls"
      ],
      "execution_count": 23,
      "outputs": [
        {
          "output_type": "stream",
          "text": [
            "jeju.csv  sample_data\n"
          ],
          "name": "stdout"
        }
      ]
    },
    {
      "cell_type": "code",
      "metadata": {
        "id": "v4pHeaGOelwb",
        "colab_type": "code",
        "colab": {}
      },
      "source": [
        "import matplotlib.pyplot as plt\n",
        "import numpy as np\n",
        "import matplotlib.font_manager as fm"
      ],
      "execution_count": 146,
      "outputs": []
    },
    {
      "cell_type": "code",
      "metadata": {
        "id": "Zqq16AHXendB",
        "colab_type": "code",
        "colab": {
          "base_uri": "https://localhost:8080/",
          "height": 307
        },
        "outputId": "e84c6ce6-2038-4919-95c5-e4f81d56e10c"
      },
      "source": [
        "x=['1st','2nd','3rd', '4th', '5th']\n",
        "y = [4.5, 4.5, 4.5, 4, 4.5]\n",
        "plt.bar(x, y,width=0.5,color=\"skyblue\")\n",
        "plt.title('Famous destinations in Jeju', fontsize=18)\n",
        "plt.xlabel('ranking',fontsize=18)\n",
        "plt.ylabel('grade', fontsize=18)\n",
        "#plt.xticks(x,xlabel)\n",
        "plt.show()"
      ],
      "execution_count": 147,
      "outputs": [
        {
          "output_type": "display_data",
          "data": {
            "image/png": "[encoded data removed]",
            "text/plain": [
              "<Figure size 432x288 with 1 Axes>"
            ]
          },
          "metadata": {
            "tags": [],
            "needs_background": "light"
          }
        }
      ]
    },
    {
      "cell_type": "code",
      "metadata": {
        "id": "6MW3d5QXepDa",
        "colab_type": "code",
        "colab": {
          "base_uri": "https://localhost:8080/",
          "height": 307
        },
        "outputId": "f6d02bd7-31aa-41ff-8e5f-f5e4bbcef626"
      },
      "source": [
        "x=['Excellent','Very Good','Average', 'Poor', 'Terrible']\n",
        "y = [620, 318, 98, 19, 6]\n",
        "plt.bar(x, y,width=0.5,color=\"skyblue\")\n",
        "plt.title('Udo', fontsize=18)\n",
        "plt.xlabel('Traveler rating',fontsize=18)\n",
        "plt.ylabel('Number of reviews', fontsize=18)\n",
        "#plt.xticks(x,xlabel)\n",
        "plt.show()"
      ],
      "execution_count": 148,
      "outputs": [
        {
          "output_type": "display_data",
          "data": {
            "image/png": "[encoded data removed]",
            "text/plain": [
              "<Figure size 432x288 with 1 Axes>"
            ]
          },
          "metadata": {
            "tags": [],
            "needs_background": "light"
          }
        }
      ]
    },
    {
      "cell_type": "code",
      "metadata": {
        "id": "ZsTzEGrverC8",
        "colab_type": "code",
        "colab": {
          "base_uri": "https://localhost:8080/",
          "height": 307
        },
        "outputId": "954d2fd8-5207-41e5-ae61-babc261ff2e8"
      },
      "source": [
        "x=['Excellent','Very Good','Average', 'Poor', 'Terrible']\n",
        "y = [390, 73, 16, 6, 5]\n",
        "plt.bar(x, y,width=0.5,color=\"skyblue\")\n",
        "plt.title('Spirited Garden', fontsize=18)\n",
        "plt.xlabel('Traveler rating',fontsize=18)\n",
        "plt.ylabel('Number of reviews', fontsize=18)\n",
        "#plt.xticks(x,xlabel)\n",
        "plt.show()"
      ],
      "execution_count": 149,
      "outputs": [
        {
          "output_type": "display_data",
          "data": {
            "image/png": "[encoded data removed]",
            "text/plain": [
              "<Figure size 432x288 with 1 Axes>"
            ]
          },
          "metadata": {
            "tags": [],
            "needs_background": "light"
          }
        }
      ]
    },
    {
      "cell_type": "code",
      "metadata": {
        "id": "PoPwrWeyetE1",
        "colab_type": "code",
        "colab": {
          "base_uri": "https://localhost:8080/",
          "height": 307
        },
        "outputId": "e1ed6d50-9ef6-438c-ade6-288a952b8667"
      },
      "source": [
        "x=['Excellent','Very Good','Average', 'Poor', 'Terrible']\n",
        "y = [290, 171, 42, 4, 0]\n",
        "plt.bar(x, y,width=0.5,color=\"skyblue\")\n",
        "plt.title('Hamdeok Beach', fontsize=18)\n",
        "plt.xlabel('Traveler rating',fontsize=18)\n",
        "plt.ylabel('Number of reviews', fontsize=18)\n",
        "#plt.xticks(x,xlabel)\n",
        "plt.show()"
      ],
      "execution_count": 150,
      "outputs": [
        {
          "output_type": "display_data",
          "data": {
            "image/png": "[encoded data removed]",
            "text/plain": [
              "<Figure size 432x288 with 1 Axes>"
            ]
          },
          "metadata": {
            "tags": [],
            "needs_background": "light"
          }
        }
      ]
    },
    {
      "cell_type": "code",
      "metadata": {
        "id": "vEFPg7XMeuMl",
        "colab_type": "code",
        "colab": {
          "base_uri": "https://localhost:8080/",
          "height": 307
        },
        "outputId": "96baab76-914d-4173-aac1-2cad93f85a2a"
      },
      "source": [
        "x=['Excellent','Very Good','Average', 'Poor', 'Terrible']\n",
        "y = [433, 541, 261, 45, 9]\n",
        "plt.bar(x, y,width=0.5,color=\"skyblue\")\n",
        "plt.title('Manjanggul Cave', fontsize=18)\n",
        "plt.xlabel('Traveler rating',fontsize=18)\n",
        "plt.ylabel('Number of reviews', fontsize=18)\n",
        "#plt.xticks(x,xlabel)\n",
        "plt.show()"
      ],
      "execution_count": 151,
      "outputs": [
        {
          "output_type": "display_data",
          "data": {
            "image/png": "[encoded data removed]",
            "text/plain": [
              "<Figure size 432x288 with 1 Axes>"
            ]
          },
          "metadata": {
            "tags": [],
            "needs_background": "light"
          }
        }
      ]
    },
    {
      "cell_type": "code",
      "metadata": {
        "id": "xVQ10n_DewdJ",
        "colab_type": "code",
        "colab": {
          "base_uri": "https://localhost:8080/",
          "height": 307
        },
        "outputId": "741af843-6e78-4520-c1ee-98a61ccb687a"
      },
      "source": [
        "x=['Excellent','Very Good','Average', 'Poor', 'Terrible']\n",
        "y = [250, 154, 54, 6, 1]\n",
        "plt.bar(x, y,width=0.5,color=\"skyblue\")\n",
        "plt.title('Hyeopjae Beach', fontsize=18)\n",
        "plt.xlabel('Traveler rating',fontsize=18)\n",
        "plt.ylabel('Number of reviews', fontsize=18)\n",
        "#plt.xticks(x,xlabel)\n",
        "plt.show()"
      ],
      "execution_count": 152,
      "outputs": [
        {
          "output_type": "display_data",
          "data": {
            "image/png": "[encoded data removed]",
            "text/plain": [
              "<Figure size 432x288 with 1 Axes>"
            ]
          },
          "metadata": {
            "tags": [],
            "needs_background": "light"
          }
        }
      ]
    }
  ]
}