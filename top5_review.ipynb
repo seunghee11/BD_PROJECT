{
  "nbformat": 4,
  "nbformat_minor": 0,
  "metadata": {
    "colab": {
      "name": "Termproject.ipynb",
      "provenance": [],
      "collapsed_sections": []
    },
    "kernelspec": {
      "name": "python3",
      "display_name": "Python 3"
    }
  },
  "cells": [
    {
      "cell_type": "code",
      "metadata": {
        "id": "e5YPpPaxqjlo",
        "colab_type": "code",
        "colab": {
          "base_uri": "https://localhost:8080/",
          "height": 125
        },
        "outputId": "46483478-0988-4289-ab31-3047f683b894"
      },
      "source": [
        "!pip install requests \n",
        "!pip install BeautifulSoup4"
      ],
      "execution_count": null,
      "outputs": [
        {
          "output_type": "stream",
          "text": [
            "Requirement already satisfied: requests in /usr/local/lib/python3.6/dist-packages (2.23.0)\n",
            "Requirement already satisfied: urllib3!=1.25.0,!=1.25.1,<1.26,>=1.21.1 in /usr/local/lib/python3.6/dist-packages (from requests) (1.24.3)\n",
            "Requirement already satisfied: certifi>=2017.4.17 in /usr/local/lib/python3.6/dist-packages (from requests) (2020.4.5.2)\n",
            "Requirement already satisfied: idna<3,>=2.5 in /usr/local/lib/python3.6/dist-packages (from requests) (2.9)\n",
            "Requirement already satisfied: chardet<4,>=3.0.2 in /usr/local/lib/python3.6/dist-packages (from requests) (3.0.4)\n",
            "Requirement already satisfied: BeautifulSoup4 in /usr/local/lib/python3.6/dist-packages (4.6.3)\n"
          ],
          "name": "stdout"
        }
      ]
    },
    {
      "cell_type": "code",
      "metadata": {
        "id": "MEghSqovqqA8",
        "colab_type": "code",
        "colab": {}
      },
      "source": [
        "from bs4 import BeautifulSoup\n",
        "from pprint import pprint\n",
        "import requests"
      ],
      "execution_count": null,
      "outputs": []
    },
    {
      "cell_type": "code",
      "metadata": {
        "id": "B3d-50E3wKzj",
        "colab_type": "code",
        "colab": {
          "base_uri": "https://localhost:8080/",
          "height": 1000
        },
        "outputId": "fb23552b-3f5b-42fd-8d0d-935b7636ef91"
      },
      "source": [
        "html = requests.get(\"https://www.tripadvisor.co.kr/Attraction_Review-g297885-d1776326-Reviews-or0\")\n",
        "soup = BeautifulSoup(html.text,'html.parser')\n",
        "html.close()\n",
        "\n",
        "print(\"<우도 리뷰>\")\n",
        "name_list = soup.findAll(\"div\", {\"class\": \"cPQsENeY\"})\n",
        "\n",
        "for name in name_list:\n",
        "    print()\n",
        "    print(name.get_text())\n",
        "\n",
        "html = requests.get(\"https://www.tripadvisor.co.kr/Attraction_Review-g297892-d1582693-Reviews-Seongsan_Ilchulbong-Seogwipo_Jeju_Island.html\")\n",
        "soup = BeautifulSoup(html.text,'html.parser')\n",
        "html.close()\n",
        "print()\n",
        "print()\n",
        "\n",
        "print(\"<성산일출봉 리뷰>\")\n",
        "name_list = soup.findAll(\"div\", {\"class\": \"cPQsENeY\"})\n",
        "\n",
        "for name in name_list:\n",
        "    print()\n",
        "    print(name.get_text())\n",
        "\n",
        "html = requests.get(\"https://www.tripadvisor.co.kr/Attraction_Review-g297885-d2204891-Reviews-Spirited_Garden-Jeju_Jeju_Island.html\")\n",
        "soup = BeautifulSoup(html.text,'html.parser')\n",
        "html.close()\n",
        "print()\n",
        "print()\n",
        "\n",
        "print(\"<생각하는 정원 리뷰>\")\n",
        "name_list = soup.findAll(\"div\", {\"class\": \"cPQsENeY\"})\n",
        "\n",
        "for name in name_list:\n",
        "    print()\n",
        "    print(name.get_text())    \n",
        "\n",
        "html = requests.get(\"https://www.tripadvisor.co.kr/Attraction_Review-g983296-d3231669-Reviews-Jeju_Olle_Trail_Routes-Jeju_Island.html#REVIEWS\")\n",
        "soup = BeautifulSoup(html.text,'html.parser')\n",
        "html.close()\n",
        "print()\n",
        "print()\n",
        "\n",
        "print(\"<제주 올레길 리뷰>\")\n",
        "name_list = soup.findAll(\"div\", {\"class\": \"cPQsENeY\"})\n",
        "\n",
        "for name in name_list:\n",
        "    print()\n",
        "    print(name.get_text())   \n",
        "\n",
        "html = requests.get(\"https://www.tripadvisor.co.kr/Attraction_Review-g297885-d550694-Reviews-Hamdeok_Beach-Jeju_Jeju_Island.html\")\n",
        "soup = BeautifulSoup(html.text,'html.parser')\n",
        "html.close()\n",
        "print()\n",
        "print()\n",
        "\n",
        "print(\"<함덕서우봉 리뷰>\")\n",
        "name_list = soup.findAll(\"div\", {\"class\": \"cPQsENeY\"})\n",
        "\n",
        "for name in name_list:\n",
        "    print()\n",
        "    print(name.get_text())        "
      ],
      "execution_count": null,
      "outputs": [
        {
          "output_type": "stream",
          "text": [
            "<우도 리뷰>\n",
            "\n",
            "코로나19 바이러스로 인해 조금은 한가해진 우도를 방문. 관광을 목적으로 3~5시간정도 체류했다. 바다색이 에메랄드빛을 띠고 우도봉에서 보는 우도전체 절경과 성산일출봉을 보는 시각적인 효과는 아주 좋았다. 땅콩아이스크림또한 별미였다.  제주를 여행한다면 하루중 반나절정도 우도에 방문하는것도 좋다.\n",
            "\n",
            "날이 좋은 날 가니 바다빛이 동남아,하와이 휴양지 보다 더 예쁘더라구요. 하루 머무르면서 더 여유있게 둘러보고 싶단 생각이 드는 곳이었습니다.  전기차는 뒷좌석에 앉으니 풍광이 잘 보이지도 않고 바닥의 돌이 다 느껴지는 승차감ㅜ 돌아다니기 편하긴 한데, 타고 있으면 너무 불편한... 특이한 경험이었습니다.\n",
            "\n",
            "3만원 주고 전기차 시간 무제한...이라고 하지만 마지막 배가 5시여서, 5시까지 빌려서 타고 다녔네요. 크게 특별한 볼거리는 없는 것 같고, 그냥 전기차를 타러 오는 느낌? 그렇다고 걸어서 다니기에는 엄청 큰 편이고, 전기차로 한 번 쉭 돌아보는 것에 큰 의미가 있나 싶기도 합니다.\n",
            "\n",
            "주머니 사정이 넉넉하지 않다면 순환 버스를 6000원에 이용하면되고, 넉넉하면 스쿠터나 전기차를 대여하면된다. 가격은 25000원정도인데 현금 결제 유도한다. 딱 한바퀴 돌아보고 해변 두군데 보면 끝난다. 풍광은 멋있지만 물가는 제주도보다도 더 비싸다.\n",
            "\n",
            "소가 누워 있는 모양이라고 하여 우도라는 이름이 붙은 섬입니다. 우도는 제주도에서도 배를 타고 들어가야 하기 때문에 많은 여행객이 방문을 망설입니다. 하지만 '우도8경'이라는 말이 괜히 있는 것이 아닙니다. 어딜가나 아름다운 풍경이 펼쳐지는 곳이 우도입니다. 우도를 여행할 때, 투어를 이용하면 우도에서 보낼 수 있는 시간이 제한적이기 때문에  개인적으로 찾아가는 편이 훨씬 좋습니다.\n",
            "\n",
            "\n",
            "<성산일출봉 리뷰>\n",
            "\n",
            "제주도하면 제일 먼저 떠오르는 곳은 한라산이지만 명소라고 하기에는  너무 특징이 없고 몇 % 부족한 것 같아요.   그러나 성산일출봉은 세계자연유산으로 선정된  진정한 제주의 랜드마크이며, 올레1,2코스를 따라 걸으면서 오름에서, 바닷가에서 바라보는 성산일출봉의 모습은 방향에 따라서 다른 모습들을 보여준답니다. 성산 인근을 지날 때 가끔씩 발걸음을 멈추고 성산일출봉의 다른 모습들을 즐겨보세요.\n",
            "\n",
            "일출봉 정상까지 꼭 올라가 보세요. 어린아이들도 갈 정도로 그리 힘들지 않습니다. 20여분 안에 정상까지 갈 정도의 높이입니다. 입장료는 5천원이지만, 올라가는 중각중간 정말 멋진 경치를 즐길 수 있습니다!\n",
            "\n",
            "가족이 함께 오손도손 팔짱끼고 가며 이런저런 얘기도 나누고 앞으로의 계획도 약속하며 올라가다보면 힘든 것도 없이 금방 올라가죠.   올라서서 내려다보는 풍경은 정말 멋지고 아름답습니다.   천혜의 바다란 말이 절로 나오고 아쉽게도 해돋이는 보지 못했으나 새벽잠을 포기하고 거기까지 올랐다는 벅참과 뿌뜻함에 더욱 행복해지는 시간이었습니다.\n",
            "\n",
            "제주도에 오면 그래도 한 번 정도 들러야 하는 곳 아닐까 합니다. 개인적으로는 우도에 가기 전에 성산일출봉 들렀다가 갔네요. 주변 편의점이나 식당들이 너무 비싸서...미리 준비해가세요 이왕이면.\n",
            "\n",
            "예전에 여행이 활성화 되지 않았을 때나 성산 일출봉이 필수 코스였다. 그러나 한번 쯤은 가볼만한 가치가 있는 곳이다. 주변 식당은 비싸고 그닥...\n",
            "\n",
            "\n",
            "<생각하는 정원 리뷰>\n",
            "\n",
            "생각하는 정원은  심미적 가치를 넘어선  \"설립자\"의 개척정신과 긍지가 담긴 공간으로, 그 철학과 인문학적 가치를 엿볼 수 있었습니다.  아직도 50%로 밖에 완성된 것이 아니다는 원장님의 말씀에 겸손함과 깊은 열정을 느끼며, 이 곳의 아름다움이 현재 뿐 아닌 시공을 초월하여 계속 진화하는 가치를 가진 정원이 되지 않을까하여 앞으로가 더욱 기대되는 곳이었습니다.  개인적으로 생각하는 정원에 진화하는 정원이라는 서브네임을 지어드리고 싶을 정도였습니다.  이곳을 방문하실 분들은 나무 뿐 아니라…\n",
            "\n",
            "생각하는 정원. 정원과 분재를 보러가는 것이 아니다. 글을 읽기 위해 간다.  글을 읽고 생각하는 것이 가장 좋았다. 이름 값을 한다.   아, 점심 유기농뷔페가 정말 맛있다고 들었다.\n",
            "\n",
            "지인의 소개로 입구를 들어갈때만 하더라도 그저 제주의 여느 관광지처럼 예쁜 정원 정도겠거니 생각했습니다.  하지만 정원의 길을 따라 산책의 끝무렵쯤 도착한 찻집에서 성범영 원장님을 뵙고 정말 많은 생각을 하게 되었습니다. 혹 생각하는 정원 방문 전 이 글을 보신다면  아름다운 정원, 멋진 분재들도 좋지만 나무들 마다 써있는 팻말의 글귀들을 꼭 천천히 읽어보시고 떠오르는 생각을 품고 정원을 돌아 보시길 감히 권해드립니다.  그리고 기회가 되신다면 꼭 원장님을 뵙고 50여년간 분재와 나무에 미친…\n",
            "\n",
            "전주에서 여행와서 처음가봤는데 들어왔더니 귀여운 작은 나무들이 많이보였어요.전망대 경치도 너무좋구옇ㅎ아주 아름다워용\n",
            "\n",
            "정말 생각하는 정원이라는 이름이 어울리네요. 역사와 문화가 있는 곳이라 추천합니다. 멋진 분재와 돌들로 이루어진 정원과 이를 만드는 과정을 통해 자연으로부터 배운 원장님의 통찰들이 이 장소를 가치있게 한다고 생각합니다.\n",
            "\n",
            "\n",
            "<제주 올레길 리뷰>\n",
            "\n",
            "예전에는 박물관이나 관광지 위주로 다녀서 올래길이 예쁜줄몰랐는데 아무생각없이 바다를 보며 걸으니 너무힐링되고좋네요 개인적으론 5코스가 좋았어요\n",
            "\n",
            "차귀도 올레길을 걷고 싶어 오랜만에 탐방 배타고 10분, 둘레길 1시간 정도 둘러보고 배타고 해변가도 보고 즐감하세요 섬속의 섬에서 한라산 정상 볼수 있을까요 사방산도 보고 기상대도 보고 푸르른 바다 차귀도 등대 장군바위 독수리바위 순간 포착 찰칵^^♡\n",
            "\n",
            "7년전 아주 힘들었던시절 올레길을 걸으며 마음을 달래고 힘을 얻게 되었습니다. 풍광은 말할것도 없이 좋았지만 인심도 좋고 아름답게 이어진 길을 걸으니 기분이 자연스럽게 좋아졌었죠. 이번에 다시와 예전에 왔던 코스를 다시걸었는데 역시 변함없이 좋고 마음이 가벼워졌습니다. 여러분 제주도에 수만은 관광지가 있지만 마음을 웃게해주는곳은 흔하지 않습니다. 올레길!  꼭 하나의 코스라도 마음을 비우고 돌아보세요~~^^\n",
            "\n",
            "제주 올레길중 금모래해욕장에서 시작해 용머리해변까지 걸었는데 길에 개똥이 너무 많아서 땅만 보고 걸었습니다 제주 사시는 분들 개 산책시키면서 꼭 개똥 치우세요\n",
            "\n",
            "공항 옆에 해안가를 따라 산책할 수 있는 길과 해안도로가 있는데 이곳에서 매우 아름다운 제주도의 바다를 볼 수 있다.   비행기를 좋아하거나 비행기 사진을 찍기 좋아하는 사람이라면 공항 옆에 있는 산책로도 있는데 그 길을 따라가다보면 비행기를 매우 가까이 볼 수 있는 곳을 발견 할 수 있다.\n",
            "\n",
            "\n",
            "<함덕서우봉 리뷰>\n",
            "\n",
            "함덕에가면 꼭 들어야하는 서우봉인 것 같다. 해변도 예쁘지만 서우봉에소 보는 해변은 더 멋지며 서우봉에 핀 유채꽃과 함께라면 금상첨화이다. 사진 스팟!\n",
            "\n",
            "저는 제주에서 함덕해변이 가장 예쁜 해변이라고 생각합니다.  바다빛도 그렇고, 유채꽃이 핀 서우봉에서 내려보는 풍경도 그렇고. 통유리창이 있는 카페에서 내려다만 봐도 너무 좋더라구요.\n",
            "\n",
            "겨울에 방문해도 에메랄드빛 해변이 너무 예뻐요. 여름에 왔다면 하루 종일이라도 바다에서 놀 수 있을 것 같습니다. 제주도 최고의 해변이라고 할 수 있습니다.\n",
            "\n",
            "함덕 서우봉에서 꿈엔들오카리나동호회 연주! 멋진 추억을 기리다 함덕의 코발트빛 바닷물과 함께 아름답고 맑은 오카리나의 소리는 꿈엔들 잊으리오!\n",
            "\n",
            "함덕서우봉해변은 한국의 몰디브라는 별명이 있더라구요!! 그만큼 바다가 예쁘다는 이야기겠죠? 협재랑 다르게 더 짙은 에메랄드빛의 바다는 한없이 바라보기 좋은 곳이예요!!\n"
          ],
          "name": "stdout"
        }
      ]
    }
  ]
}